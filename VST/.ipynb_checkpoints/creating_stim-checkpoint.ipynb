{
 "cells": [
  {
   "cell_type": "code",
   "execution_count": 1,
   "id": "797748e9-8975-483f-b05e-37e146ff7dc2",
   "metadata": {},
   "outputs": [],
   "source": [
    "import math\n",
    "import numpy as np\n",
    "import pandas as pd\n",
    "from pathlib import Path"
   ]
  },
  {
   "cell_type": "code",
   "execution_count": 2,
   "id": "139d002c-055d-4ac6-a730-8a528342b8d0",
   "metadata": {},
   "outputs": [],
   "source": [
    "datafile = Path('/Users/nico/Documents/GitHub/EXP/VST/practice_stim.csv')"
   ]
  },
  {
   "cell_type": "code",
   "execution_count": 3,
   "id": "554b407b-5735-4873-bf76-912de2895ec6",
   "metadata": {},
   "outputs": [
    {
     "data": {
      "text/plain": [
       "4"
      ]
     },
     "execution_count": 3,
     "metadata": {},
     "output_type": "execute_result"
    }
   ],
   "source": [
    "df = pd.read_csv(datafile)\n",
    "len(df)"
   ]
  },
  {
   "cell_type": "code",
   "execution_count": 11,
   "id": "7ae2021b-96c6-4f2a-a959-cbdad481cb31",
   "metadata": {},
   "outputs": [
    {
     "data": {
      "text/html": [
       "<div>\n",
       "<style scoped>\n",
       "    .dataframe tbody tr th:only-of-type {\n",
       "        vertical-align: middle;\n",
       "    }\n",
       "\n",
       "    .dataframe tbody tr th {\n",
       "        vertical-align: top;\n",
       "    }\n",
       "\n",
       "    .dataframe thead th {\n",
       "        text-align: right;\n",
       "    }\n",
       "</style>\n",
       "<table border=\"1\" class=\"dataframe\">\n",
       "  <thead>\n",
       "    <tr style=\"text-align: right;\">\n",
       "      <th></th>\n",
       "      <th>type</th>\n",
       "      <th>word1</th>\n",
       "      <th>word2</th>\n",
       "      <th>word3</th>\n",
       "      <th>word4</th>\n",
       "      <th>correct_answer</th>\n",
       "    </tr>\n",
       "  </thead>\n",
       "  <tbody>\n",
       "    <tr>\n",
       "      <th>0</th>\n",
       "      <td>neutral</td>\n",
       "      <td>zxcv</td>\n",
       "      <td>zxcv</td>\n",
       "      <td>zxcv</td>\n",
       "      <td>test</td>\n",
       "      <td>m</td>\n",
       "    </tr>\n",
       "    <tr>\n",
       "      <th>0</th>\n",
       "      <td>neutral</td>\n",
       "      <td>zxcv</td>\n",
       "      <td>zxcv</td>\n",
       "      <td>zxcv</td>\n",
       "      <td>test</td>\n",
       "      <td>m</td>\n",
       "    </tr>\n",
       "    <tr>\n",
       "      <th>0</th>\n",
       "      <td>neutral</td>\n",
       "      <td>zxcv</td>\n",
       "      <td>zxcv</td>\n",
       "      <td>zxcv</td>\n",
       "      <td>test</td>\n",
       "      <td>m</td>\n",
       "    </tr>\n",
       "    <tr>\n",
       "      <th>0</th>\n",
       "      <td>neutral</td>\n",
       "      <td>zxcv</td>\n",
       "      <td>zxcv</td>\n",
       "      <td>zxcv</td>\n",
       "      <td>test</td>\n",
       "      <td>m</td>\n",
       "    </tr>\n",
       "    <tr>\n",
       "      <th>0</th>\n",
       "      <td>neutral</td>\n",
       "      <td>zxcv</td>\n",
       "      <td>zxcv</td>\n",
       "      <td>zxcv</td>\n",
       "      <td>test</td>\n",
       "      <td>m</td>\n",
       "    </tr>\n",
       "    <tr>\n",
       "      <th>...</th>\n",
       "      <td>...</td>\n",
       "      <td>...</td>\n",
       "      <td>...</td>\n",
       "      <td>...</td>\n",
       "      <td>...</td>\n",
       "      <td>...</td>\n",
       "    </tr>\n",
       "    <tr>\n",
       "      <th>3</th>\n",
       "      <td>neutral</td>\n",
       "      <td>zxcv</td>\n",
       "      <td>zxcv</td>\n",
       "      <td>zxcv</td>\n",
       "      <td>asdf</td>\n",
       "      <td>z</td>\n",
       "    </tr>\n",
       "    <tr>\n",
       "      <th>3</th>\n",
       "      <td>neutral</td>\n",
       "      <td>zxcv</td>\n",
       "      <td>zxcv</td>\n",
       "      <td>zxcv</td>\n",
       "      <td>asdf</td>\n",
       "      <td>z</td>\n",
       "    </tr>\n",
       "    <tr>\n",
       "      <th>3</th>\n",
       "      <td>neutral</td>\n",
       "      <td>zxcv</td>\n",
       "      <td>zxcv</td>\n",
       "      <td>zxcv</td>\n",
       "      <td>asdf</td>\n",
       "      <td>z</td>\n",
       "    </tr>\n",
       "    <tr>\n",
       "      <th>3</th>\n",
       "      <td>neutral</td>\n",
       "      <td>zxcv</td>\n",
       "      <td>zxcv</td>\n",
       "      <td>zxcv</td>\n",
       "      <td>asdf</td>\n",
       "      <td>z</td>\n",
       "    </tr>\n",
       "    <tr>\n",
       "      <th>3</th>\n",
       "      <td>neutral</td>\n",
       "      <td>zxcv</td>\n",
       "      <td>zxcv</td>\n",
       "      <td>zxcv</td>\n",
       "      <td>asdf</td>\n",
       "      <td>z</td>\n",
       "    </tr>\n",
       "  </tbody>\n",
       "</table>\n",
       "<p>80 rows × 6 columns</p>\n",
       "</div>"
      ],
      "text/plain": [
       "       type word1 word2 word3 word4 correct_answer\n",
       "0   neutral  zxcv  zxcv  zxcv  test              m\n",
       "0   neutral  zxcv  zxcv  zxcv  test              m\n",
       "0   neutral  zxcv  zxcv  zxcv  test              m\n",
       "0   neutral  zxcv  zxcv  zxcv  test              m\n",
       "0   neutral  zxcv  zxcv  zxcv  test              m\n",
       "..      ...   ...   ...   ...   ...            ...\n",
       "3   neutral  zxcv  zxcv  zxcv  asdf              z\n",
       "3   neutral  zxcv  zxcv  zxcv  asdf              z\n",
       "3   neutral  zxcv  zxcv  zxcv  asdf              z\n",
       "3   neutral  zxcv  zxcv  zxcv  asdf              z\n",
       "3   neutral  zxcv  zxcv  zxcv  asdf              z\n",
       "\n",
       "[80 rows x 6 columns]"
      ]
     },
     "execution_count": 11,
     "metadata": {},
     "output_type": "execute_result"
    }
   ],
   "source": [
    "df2=df.loc[df.index.repeat(20)]\n",
    "df2"
   ]
  },
  {
   "cell_type": "code",
   "execution_count": 13,
   "id": "6aa7093c-c2b0-4fc3-a6de-06488bc71aa9",
   "metadata": {},
   "outputs": [
    {
     "name": "stdout",
     "output_type": "stream",
     "text": [
      "    index     type word1 word2 word3     word4 correct_answer\n",
      "0       1  neutral  test  test  test      zxcv              z\n",
      "1       0  neutral  zxcv  zxcv  zxcv      test              m\n",
      "2       1  neutral  test  test  test      zxcv              z\n",
      "3       2  neutral  test  test  test  practice              m\n",
      "4       1  neutral  test  test  test      zxcv              z\n",
      "..    ...      ...   ...   ...   ...       ...            ...\n",
      "75      3  neutral  zxcv  zxcv  zxcv      asdf              z\n",
      "76      0  neutral  zxcv  zxcv  zxcv      test              m\n",
      "77      3  neutral  zxcv  zxcv  zxcv      asdf              z\n",
      "78      2  neutral  test  test  test  practice              m\n",
      "79      0  neutral  zxcv  zxcv  zxcv      test              m\n",
      "\n",
      "[80 rows x 7 columns]\n"
     ]
    }
   ],
   "source": [
    "shuffled = df2.sample(frac=1).reset_index()\n",
    "print(shuffled)"
   ]
  },
  {
   "cell_type": "code",
   "execution_count": 15,
   "id": "55f53fdb-bb5a-4c91-8edf-2d641daee101",
   "metadata": {},
   "outputs": [],
   "source": [
    "shuffled.to_csv('shuffled_stimuli.csv')"
   ]
  },
  {
   "cell_type": "code",
   "execution_count": null,
   "id": "6bcfbbd4-21db-4890-b773-b0f90536ae00",
   "metadata": {},
   "outputs": [],
   "source": []
  }
 ],
 "metadata": {
  "kernelspec": {
   "display_name": "Python 3 (ipykernel)",
   "language": "python",
   "name": "python3"
  },
  "language_info": {
   "codemirror_mode": {
    "name": "ipython",
    "version": 3
   },
   "file_extension": ".py",
   "mimetype": "text/x-python",
   "name": "python",
   "nbconvert_exporter": "python",
   "pygments_lexer": "ipython3",
   "version": "3.8.12"
  }
 },
 "nbformat": 4,
 "nbformat_minor": 5
}
